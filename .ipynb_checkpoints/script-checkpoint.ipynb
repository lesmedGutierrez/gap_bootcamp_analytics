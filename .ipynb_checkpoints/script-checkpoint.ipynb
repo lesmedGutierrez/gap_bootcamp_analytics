{
 "cells": [
  {
   "cell_type": "code",
   "execution_count": 1,
   "metadata": {},
   "outputs": [],
   "source": [
    "from __future__ import print_function\n",
    "import os\n",
    "\n",
    "import pandas as pd\n",
    "import numpy as np\n",
    "import matplotlib"
   ]
  },
  {
   "cell_type": "markdown",
   "metadata": {},
   "source": [
    "# Ingestión de datos"
   ]
  },
  {
   "cell_type": "code",
   "execution_count": 2,
   "metadata": {},
   "outputs": [],
   "source": [
    "data_path = ['data']\n",
    "file_name = 'Vuelos.csv'\n",
    "filepath = os.sep.join(data_path + [file_name])\n",
    "\n",
    "dataset = pd.read_csv(filepath, low_memory=False)"
   ]
  },
  {
   "cell_type": "markdown",
   "metadata": {},
   "source": [
    "Se presentan las primeras 5 observaciones y las dimensiones de la tabla de observaciones. Notamos que la cantidad de observaciones es alta comparado con la cantidad de features, lo cúal es muy positivo cuando se aplican modelos estadísticos."
   ]
  },
  {
   "cell_type": "code",
   "execution_count": 3,
   "metadata": {
    "scrolled": true
   },
   "outputs": [
    {
     "data": {
      "text/plain": [
       "(480085, 38)"
      ]
     },
     "metadata": {},
     "output_type": "display_data"
    },
    {
     "data": {
      "text/html": [
       "<div>\n",
       "<style scoped>\n",
       "    .dataframe tbody tr th:only-of-type {\n",
       "        vertical-align: middle;\n",
       "    }\n",
       "\n",
       "    .dataframe tbody tr th {\n",
       "        vertical-align: top;\n",
       "    }\n",
       "\n",
       "    .dataframe thead th {\n",
       "        text-align: right;\n",
       "    }\n",
       "</style>\n",
       "<table border=\"1\" class=\"dataframe\">\n",
       "  <thead>\n",
       "    <tr style=\"text-align: right;\">\n",
       "      <th></th>\n",
       "      <th>Unnamed: 0</th>\n",
       "      <th>MONTH</th>\n",
       "      <th>DAY_OF_MONTH</th>\n",
       "      <th>FL_DATE</th>\n",
       "      <th>UNIQUE_CARRIER</th>\n",
       "      <th>ORIGIN</th>\n",
       "      <th>ORIGIN_CITY_NAME</th>\n",
       "      <th>ORIGIN_STATE_ABR</th>\n",
       "      <th>ORIGIN_STATE_NM</th>\n",
       "      <th>ORIGIN_WAC</th>\n",
       "      <th>...</th>\n",
       "      <th>ACTUAL_ELAPSED_TIME</th>\n",
       "      <th>FLIGHTS</th>\n",
       "      <th>DISTANCE</th>\n",
       "      <th>DISTANCE_GROUP</th>\n",
       "      <th>CARRIER_DELAY</th>\n",
       "      <th>WEATHER_DELAY</th>\n",
       "      <th>NAS_DELAY</th>\n",
       "      <th>SECURITY_DELAY</th>\n",
       "      <th>LATE_AIRCRAFT_DELAY</th>\n",
       "      <th>Unnamed: 36</th>\n",
       "    </tr>\n",
       "  </thead>\n",
       "  <tbody>\n",
       "    <tr>\n",
       "      <th>0</th>\n",
       "      <td>0</td>\n",
       "      <td>8</td>\n",
       "      <td>31</td>\n",
       "      <td>2017-08-31</td>\n",
       "      <td>F9</td>\n",
       "      <td>LGA</td>\n",
       "      <td>New York, NY</td>\n",
       "      <td>NY</td>\n",
       "      <td>New York</td>\n",
       "      <td>22</td>\n",
       "      <td>...</td>\n",
       "      <td>175.0</td>\n",
       "      <td>1.0</td>\n",
       "      <td>762.0</td>\n",
       "      <td>4</td>\n",
       "      <td>NaN</td>\n",
       "      <td>NaN</td>\n",
       "      <td>NaN</td>\n",
       "      <td>NaN</td>\n",
       "      <td>NaN</td>\n",
       "      <td>NaN</td>\n",
       "    </tr>\n",
       "    <tr>\n",
       "      <th>1</th>\n",
       "      <td>1</td>\n",
       "      <td>8</td>\n",
       "      <td>2</td>\n",
       "      <td>2017-08-02</td>\n",
       "      <td>WN</td>\n",
       "      <td>STL</td>\n",
       "      <td>St. Louis, MO</td>\n",
       "      <td>MO</td>\n",
       "      <td>Missouri</td>\n",
       "      <td>64</td>\n",
       "      <td>...</td>\n",
       "      <td>NaN</td>\n",
       "      <td>1.0</td>\n",
       "      <td>888.0</td>\n",
       "      <td>4</td>\n",
       "      <td>NaN</td>\n",
       "      <td>NaN</td>\n",
       "      <td>NaN</td>\n",
       "      <td>NaN</td>\n",
       "      <td>NaN</td>\n",
       "      <td>NaN</td>\n",
       "    </tr>\n",
       "    <tr>\n",
       "      <th>2</th>\n",
       "      <td>2</td>\n",
       "      <td>8</td>\n",
       "      <td>2</td>\n",
       "      <td>2017-08-02</td>\n",
       "      <td>WN</td>\n",
       "      <td>STL</td>\n",
       "      <td>St. Louis, MO</td>\n",
       "      <td>MO</td>\n",
       "      <td>Missouri</td>\n",
       "      <td>64</td>\n",
       "      <td>...</td>\n",
       "      <td>138.0</td>\n",
       "      <td>1.0</td>\n",
       "      <td>888.0</td>\n",
       "      <td>4</td>\n",
       "      <td>NaN</td>\n",
       "      <td>NaN</td>\n",
       "      <td>NaN</td>\n",
       "      <td>NaN</td>\n",
       "      <td>NaN</td>\n",
       "      <td>NaN</td>\n",
       "    </tr>\n",
       "    <tr>\n",
       "      <th>3</th>\n",
       "      <td>3</td>\n",
       "      <td>8</td>\n",
       "      <td>2</td>\n",
       "      <td>2017-08-02</td>\n",
       "      <td>WN</td>\n",
       "      <td>STL</td>\n",
       "      <td>St. Louis, MO</td>\n",
       "      <td>MO</td>\n",
       "      <td>Missouri</td>\n",
       "      <td>64</td>\n",
       "      <td>...</td>\n",
       "      <td>166.0</td>\n",
       "      <td>1.0</td>\n",
       "      <td>888.0</td>\n",
       "      <td>4</td>\n",
       "      <td>0.0</td>\n",
       "      <td>39.0</td>\n",
       "      <td>26.0</td>\n",
       "      <td>0.0</td>\n",
       "      <td>44.0</td>\n",
       "      <td>NaN</td>\n",
       "    </tr>\n",
       "    <tr>\n",
       "      <th>4</th>\n",
       "      <td>4</td>\n",
       "      <td>8</td>\n",
       "      <td>2</td>\n",
       "      <td>2017-08-02</td>\n",
       "      <td>WN</td>\n",
       "      <td>TPA</td>\n",
       "      <td>Tampa, FL</td>\n",
       "      <td>FL</td>\n",
       "      <td>Florida</td>\n",
       "      <td>33</td>\n",
       "      <td>...</td>\n",
       "      <td>NaN</td>\n",
       "      <td>1.0</td>\n",
       "      <td>1130.0</td>\n",
       "      <td>5</td>\n",
       "      <td>NaN</td>\n",
       "      <td>NaN</td>\n",
       "      <td>NaN</td>\n",
       "      <td>NaN</td>\n",
       "      <td>NaN</td>\n",
       "      <td>NaN</td>\n",
       "    </tr>\n",
       "  </tbody>\n",
       "</table>\n",
       "<p>5 rows × 38 columns</p>\n",
       "</div>"
      ],
      "text/plain": [
       "   Unnamed: 0  MONTH  DAY_OF_MONTH     FL_DATE UNIQUE_CARRIER ORIGIN  \\\n",
       "0           0      8            31  2017-08-31             F9    LGA   \n",
       "1           1      8             2  2017-08-02             WN    STL   \n",
       "2           2      8             2  2017-08-02             WN    STL   \n",
       "3           3      8             2  2017-08-02             WN    STL   \n",
       "4           4      8             2  2017-08-02             WN    TPA   \n",
       "\n",
       "  ORIGIN_CITY_NAME ORIGIN_STATE_ABR ORIGIN_STATE_NM  ORIGIN_WAC     ...       \\\n",
       "0     New York, NY               NY        New York          22     ...        \n",
       "1    St. Louis, MO               MO        Missouri          64     ...        \n",
       "2    St. Louis, MO               MO        Missouri          64     ...        \n",
       "3    St. Louis, MO               MO        Missouri          64     ...        \n",
       "4        Tampa, FL               FL         Florida          33     ...        \n",
       "\n",
       "  ACTUAL_ELAPSED_TIME FLIGHTS DISTANCE DISTANCE_GROUP  CARRIER_DELAY  \\\n",
       "0               175.0     1.0    762.0              4            NaN   \n",
       "1                 NaN     1.0    888.0              4            NaN   \n",
       "2               138.0     1.0    888.0              4            NaN   \n",
       "3               166.0     1.0    888.0              4            0.0   \n",
       "4                 NaN     1.0   1130.0              5            NaN   \n",
       "\n",
       "   WEATHER_DELAY  NAS_DELAY  SECURITY_DELAY  LATE_AIRCRAFT_DELAY  Unnamed: 36  \n",
       "0            NaN        NaN             NaN                  NaN          NaN  \n",
       "1            NaN        NaN             NaN                  NaN          NaN  \n",
       "2            NaN        NaN             NaN                  NaN          NaN  \n",
       "3           39.0       26.0             0.0                 44.0          NaN  \n",
       "4            NaN        NaN             NaN                  NaN          NaN  \n",
       "\n",
       "[5 rows x 38 columns]"
      ]
     },
     "metadata": {},
     "output_type": "display_data"
    }
   ],
   "source": [
    "display(dataset.shape)\n",
    "display(dataset.head(5))"
   ]
  },
  {
   "cell_type": "markdown",
   "metadata": {},
   "source": [
    "En lo anterior se observa la presencia de dos features sin nombre, \"Unnamed: 0\" y \"Unnamed: 36\". El caso de la primera variable parece cumplir una función de orden, por lo que es inecesaria pues ya contamos con los indices del dataframe, por lo que si confirmamos esto entonces esta columna podría eliminarse. El caso de la segunda variable lo analizaremos más adelante cuando contemos con más información."
   ]
  },
  {
   "cell_type": "code",
   "execution_count": 4,
   "metadata": {},
   "outputs": [
    {
     "name": "stdout",
     "output_type": "stream",
     "text": [
      "False\n",
      "\n",
      "\n",
      "<class 'pandas.core.frame.DataFrame'>\n",
      "RangeIndex: 480085 entries, 0 to 480084\n",
      "Data columns (total 38 columns):\n",
      "Unnamed: 0             480085 non-null int64\n",
      "MONTH                  480085 non-null int64\n",
      "DAY_OF_MONTH           480085 non-null int64\n",
      "FL_DATE                480085 non-null object\n",
      "UNIQUE_CARRIER         480085 non-null object\n",
      "ORIGIN                 480085 non-null object\n",
      "ORIGIN_CITY_NAME       480085 non-null object\n",
      "ORIGIN_STATE_ABR       480085 non-null object\n",
      "ORIGIN_STATE_NM        480085 non-null object\n",
      "ORIGIN_WAC             480085 non-null int64\n",
      "DEST                   480085 non-null object\n",
      "DEST_CITY_NAME         480085 non-null object\n",
      "DEST_STATE_ABR         480085 non-null object\n",
      "DEST_STATE_NM          480085 non-null object\n",
      "DEST_WAC               480085 non-null int64\n",
      "DEP_TIME               468246 non-null float64\n",
      "DEP_DELAY              468236 non-null float64\n",
      "DEP_DELAY_NEW          468236 non-null float64\n",
      "DEP_DEL15              468236 non-null float64\n",
      "DEP_DELAY_GROUP        468236 non-null float64\n",
      "DEP_TIME_BLK           480085 non-null object\n",
      "ARR_TIME               467602 non-null float64\n",
      "ARR_DELAY              466352 non-null float64\n",
      "ARR_DEL15              466352 non-null float64\n",
      "ARR_DELAY_GROUP        466352 non-null float64\n",
      "ARR_TIME_BLK           480085 non-null object\n",
      "CANCELLED              480085 non-null float64\n",
      "DIVERTED               480085 non-null float64\n",
      "ACTUAL_ELAPSED_TIME    466352 non-null float64\n",
      "FLIGHTS                480085 non-null float64\n",
      "DISTANCE               480085 non-null float64\n",
      "DISTANCE_GROUP         480085 non-null int64\n",
      "CARRIER_DELAY          107030 non-null float64\n",
      "WEATHER_DELAY          107030 non-null float64\n",
      "NAS_DELAY              107030 non-null float64\n",
      "SECURITY_DELAY         107030 non-null float64\n",
      "LATE_AIRCRAFT_DELAY    107030 non-null float64\n",
      "Unnamed: 36            0 non-null float64\n",
      "dtypes: float64(20), int64(6), object(12)\n",
      "memory usage: 139.2+ MB\n"
     ]
    }
   ],
   "source": [
    "print(pd.DataFrame(dataset['Unnamed: 0']).equals(pd.DataFrame(np.linspace(0,480084,480084,dtype=int)))) #Deberia dar True\n",
    "print('\\n')\n",
    "dataset.info()"
   ]
  },
  {
   "cell_type": "markdown",
   "metadata": {},
   "source": [
    "Se observa que \"Unnamed: 0\" de hecho si cumplía una función de enumeración por lo se procede a eliminar, además \"Unnamed: 36\" posee 0 valores no nulos, por lo que se concluye que es imposible conseguir información reelevante de esta columna y se eliminará.\n",
    "Un patrón importante es que las variables relacionadas con motivo de atraso son aquellas que presentan mayor cantidad de valores nulos, más aún, todas tienen exactamente la misma cantidad de valores nulos, esto nos lleva a considerar la posibilidad que un valor nulo signifique enrealidad que no hubo ningún atraso por lo que no se registra la causa, esto lo confirmamos a continuación."
   ]
  },
  {
   "cell_type": "code",
   "execution_count": 5,
   "metadata": {},
   "outputs": [
    {
     "name": "stdout",
     "output_type": "stream",
     "text": [
      "<class 'pandas.core.frame.DataFrame'>\n",
      "Int64Index: 169840 entries, 0 to 480084\n",
      "Data columns (total 36 columns):\n",
      "MONTH                  169840 non-null int64\n",
      "DAY_OF_MONTH           169840 non-null int64\n",
      "FL_DATE                169840 non-null object\n",
      "UNIQUE_CARRIER         169840 non-null object\n",
      "ORIGIN                 169840 non-null object\n",
      "ORIGIN_CITY_NAME       169840 non-null object\n",
      "ORIGIN_STATE_ABR       169840 non-null object\n",
      "ORIGIN_STATE_NM        169840 non-null object\n",
      "ORIGIN_WAC             169840 non-null int64\n",
      "DEST                   169840 non-null object\n",
      "DEST_CITY_NAME         169840 non-null object\n",
      "DEST_STATE_ABR         169840 non-null object\n",
      "DEST_STATE_NM          169840 non-null object\n",
      "DEST_WAC               169840 non-null int64\n",
      "DEP_TIME               169840 non-null float64\n",
      "DEP_DELAY              169840 non-null float64\n",
      "DEP_DELAY_NEW          169840 non-null float64\n",
      "DEP_DEL15              169840 non-null float64\n",
      "DEP_DELAY_GROUP        169840 non-null float64\n",
      "DEP_TIME_BLK           169840 non-null object\n",
      "ARR_TIME               169840 non-null float64\n",
      "ARR_DELAY              169840 non-null float64\n",
      "ARR_DEL15              169840 non-null float64\n",
      "ARR_DELAY_GROUP        169840 non-null float64\n",
      "ARR_TIME_BLK           169840 non-null object\n",
      "CANCELLED              169840 non-null float64\n",
      "DIVERTED               169840 non-null float64\n",
      "ACTUAL_ELAPSED_TIME    169840 non-null float64\n",
      "FLIGHTS                169840 non-null float64\n",
      "DISTANCE               169840 non-null float64\n",
      "DISTANCE_GROUP         169840 non-null int64\n",
      "CARRIER_DELAY          107030 non-null float64\n",
      "WEATHER_DELAY          107030 non-null float64\n",
      "NAS_DELAY              107030 non-null float64\n",
      "SECURITY_DELAY         107030 non-null float64\n",
      "LATE_AIRCRAFT_DELAY    107030 non-null float64\n",
      "dtypes: float64(19), int64(5), object(12)\n",
      "memory usage: 47.9+ MB\n"
     ]
    }
   ],
   "source": [
    "#Eliminamos las columnas que no aportan información\n",
    "dataset.drop(['Unnamed: 36','Unnamed: 0'], axis=1, inplace=True)\n",
    "\n",
    "#Agregar función que confirme en su gran mayoría cuando delay es positivo entonces los valores de los motivos son no-nulos\n",
    "mascara = dataset['ARR_DELAY']>0 \n",
    "mascara2 = dataset['DEP_DELAY']>0\n",
    "mascara3 = mascara | mascara2\n",
    "dataset[mascara].info()"
   ]
  },
  {
   "cell_type": "markdown",
   "metadata": {},
   "source": [
    "Observe que cuando consideramos solamente el subconjunto de los datos en los que hubo un atraso, la diferencia entre el total de los datos y la cantidad de valores no nulos de las variables con motivos de atraso disminuye considerablemente, aquellos datos que siguen teniendo valores nulos probablemente es porque no se registró la causa del retraso."
   ]
  },
  {
   "cell_type": "markdown",
   "metadata": {},
   "source": [
    "Ahora vamos a analizar las observaciones que corresponden a atrasos. Observe que el feature \"ARR DELAY\" considera también las llegadas antes del tiempo programado y los diferencia por medio de números negativos. Estos números negativos dificultan el análisis de los atrasos de los aviones (por ejemplo cuando se calcula un promedio), debido a esto surge la necesidad de crear una columna similar a \"DEP DELAY NEW\" que da como valor 0 cuando el avión llega antes de tiempo, de esta manera solo se enfoca en las llegadas tardías. Llamaremos a esta variable \"ARR DELAY NEW\" para ser consistente en el nombre de las variables."
   ]
  },
  {
   "cell_type": "code",
   "execution_count": 9,
   "metadata": {},
   "outputs": [
    {
     "name": "stdout",
     "output_type": "stream",
     "text": [
      "   MONTH  DAY_OF_MONTH     FL_DATE UNIQUE_CARRIER ORIGIN ORIGIN_CITY_NAME  \\\n",
      "0      8            31  2017-08-31             F9    LGA     New York, NY   \n",
      "1      8             2  2017-08-02             WN    STL    St. Louis, MO   \n",
      "2      8             2  2017-08-02             WN    STL    St. Louis, MO   \n",
      "3      8             2  2017-08-02             WN    STL    St. Louis, MO   \n",
      "4      8             2  2017-08-02             WN    TPA        Tampa, FL   \n",
      "\n",
      "  ORIGIN_STATE_ABR ORIGIN_STATE_NM  ORIGIN_WAC DEST      ...       \\\n",
      "0               NY        New York          22  ATL      ...        \n",
      "1               MO        Missouri          64  LGA      ...        \n",
      "2               MO        Missouri          64  LGA      ...        \n",
      "3               MO        Missouri          64  LGA      ...        \n",
      "4               FL         Florida          33  ALB      ...        \n",
      "\n",
      "  ACTUAL_ELAPSED_TIME FLIGHTS DISTANCE  DISTANCE_GROUP  CARRIER_DELAY  \\\n",
      "0               175.0     1.0    762.0               4            NaN   \n",
      "1                 NaN     1.0    888.0               4            NaN   \n",
      "2               138.0     1.0    888.0               4            NaN   \n",
      "3               166.0     1.0    888.0               4            0.0   \n",
      "4                 NaN     1.0   1130.0               5            NaN   \n",
      "\n",
      "   WEATHER_DELAY  NAS_DELAY  SECURITY_DELAY  LATE_AIRCRAFT_DELAY ARR_DELAY_NEW  \n",
      "0            NaN        NaN             NaN                  NaN           2.0  \n",
      "1            NaN        NaN             NaN                  NaN           NaN  \n",
      "2            NaN        NaN             NaN                  NaN           0.0  \n",
      "3           39.0       26.0             0.0                 44.0         109.0  \n",
      "4            NaN        NaN             NaN                  NaN           NaN  \n",
      "\n",
      "[5 rows x 37 columns]\n"
     ]
    },
    {
     "name": "stderr",
     "output_type": "stream",
     "text": [
      "C:\\Users\\Pollo\\Anaconda3\\lib\\site-packages\\ipykernel_launcher.py:2: SettingWithCopyWarning: \n",
      "A value is trying to be set on a copy of a slice from a DataFrame\n",
      "\n",
      "See the caveats in the documentation: http://pandas.pydata.org/pandas-docs/stable/indexing.html#indexing-view-versus-copy\n",
      "  \n"
     ]
    }
   ],
   "source": [
    "temp = dataset['ARR_DELAY']\n",
    "temp[temp < 0] = 0 \n",
    "dataset['ARR_DELAY_NEW'] = temp"
   ]
  },
  {
   "cell_type": "markdown",
   "metadata": {},
   "source": [
    "Para comenzar el analisis primeramente debemos hacer algo con los valores nulos. Según ............  la probabilidad de que un vuelo se atrase no es muy alta, además dada la gran cantidad de valores nulos y los puntos expuesto inicio del documento, asumiremos que un valor nulo no es más que una forma de registrar que no hubo atraso. Por lo que sustituiremos los NaN por 0. A continuación una breve descripción de los features más reelevantes conrespecto a atrasos."
   ]
  },
  {
   "cell_type": "code",
   "execution_count": 28,
   "metadata": {},
   "outputs": [
    {
     "name": "stdout",
     "output_type": "stream",
     "text": [
      "               MONTH      DEP_DELAY  DEP_DELAY_NEW      DEP_DEL15  \\\n",
      "count  480085.000000  468236.000000  468236.000000  468236.000000   \n",
      "mean        6.522522      15.403781      18.434883       0.228346   \n",
      "std         3.404854      54.283760      53.125508       0.419767   \n",
      "min         1.000000     -84.000000       0.000000       0.000000   \n",
      "25%         4.000000      -5.000000       0.000000       0.000000   \n",
      "50%         7.000000      -2.000000       0.000000       0.000000   \n",
      "75%         9.000000      11.000000      11.000000       0.000000   \n",
      "max        12.000000    1685.000000    1685.000000       1.000000   \n",
      "\n",
      "       DEP_DELAY_GROUP      ARR_DELAY      ARR_DEL15  ARR_DELAY_GROUP  \\\n",
      "count    468236.000000  466352.000000  466352.000000    466352.000000   \n",
      "mean          0.354919      18.213442       0.229505        -0.008286   \n",
      "std           2.649006      52.307365       0.420515         2.832210   \n",
      "min          -2.000000       0.000000       0.000000        -2.000000   \n",
      "25%          -1.000000       0.000000       0.000000        -2.000000   \n",
      "50%          -1.000000       0.000000       0.000000        -1.000000   \n",
      "75%           0.000000      12.000000       0.000000         0.000000   \n",
      "max          12.000000    1589.000000       1.000000        12.000000   \n",
      "\n",
      "           CANCELLED       DIVERTED  ACTUAL_ELAPSED_TIME       DISTANCE  \\\n",
      "count  480085.000000  480085.000000        466352.000000  480085.000000   \n",
      "mean        0.025502       0.003114           175.038833    1068.561001   \n",
      "std         0.157643       0.055717            89.470467     717.577157   \n",
      "min         0.000000       0.000000            37.000000      75.000000   \n",
      "25%         0.000000       0.000000           112.000000     544.000000   \n",
      "50%         0.000000       0.000000           155.000000     950.000000   \n",
      "75%         0.000000       0.000000           210.000000    1389.000000   \n",
      "max         1.000000       1.000000           784.000000    4983.000000   \n",
      "\n",
      "       DISTANCE_GROUP  CARRIER_DELAY  WEATHER_DELAY      NAS_DELAY  \\\n",
      "count   480085.000000  107030.000000  107030.000000  107030.000000   \n",
      "mean         4.750365      21.397132       2.799981      25.117416   \n",
      "std          2.759537      65.068146      23.860263      48.045493   \n",
      "min          1.000000       0.000000       0.000000       0.000000   \n",
      "25%          3.000000       0.000000       0.000000       0.000000   \n",
      "50%          4.000000       0.000000       0.000000       8.000000   \n",
      "75%          6.000000      18.000000       0.000000      29.000000   \n",
      "max         11.000000    1548.000000    1112.000000    1276.000000   \n",
      "\n",
      "       SECURITY_DELAY  LATE_AIRCRAFT_DELAY  ARR_DELAY_NEW  \n",
      "count   107030.000000        107030.000000  466352.000000  \n",
      "mean         0.113856            26.045772      18.213442  \n",
      "std          2.968468            51.109784      52.307365  \n",
      "min          0.000000             0.000000       0.000000  \n",
      "25%          0.000000             0.000000       0.000000  \n",
      "50%          0.000000             0.000000       0.000000  \n",
      "75%          0.000000            31.000000      12.000000  \n",
      "max        292.000000          1240.000000    1589.000000  \n"
     ]
    }
   ],
   "source": [
    "desc = dataset[dataset.columns[([0,15,16,17,18,21,22,23,24,25,26,27,29,30,31,32,33,34,35,36])]]\n",
    "print(desc.describe())"
   ]
  },
  {
   "cell_type": "markdown",
   "metadata": {},
   "source": [
    "De la tabla anterior podemos concluir: #falta corregir error que hace que no se calculen bien.\n",
    "- El bloque de meses con mayor cantidad de atrasos es julio, agosto y setiembre.\n",
    "- Más de un 50% de las salidas ocurren más temprano de lo programado, sin embargo en promedio los atrasos continúan siendo mayores a las saldas temprano.\n",
    "- "
   ]
  },
  {
   "cell_type": "code",
   "execution_count": 7,
   "metadata": {},
   "outputs": [
    {
     "name": "stdout",
     "output_type": "stream",
     "text": [
      "                      0\n",
      "ORIGIN_CITY_NAME       \n",
      "Atlanta, GA       17720\n",
      "Norfolk, VA         153\n",
      "San Antonio, TX     362\n",
      "San Diego, CA      2172\n",
      "Cincinnati, OH      586\n"
     ]
    }
   ],
   "source": [
    "#Contamos la cantidad de vuelos segun ciudad de salida\n",
    "\n",
    "print(dataset.groupby(\"ORIGIN_CITY_NAME\").size().to_frame().sample(5))"
   ]
  },
  {
   "cell_type": "code",
   "execution_count": 8,
   "metadata": {},
   "outputs": [
    {
     "data": {
      "text/html": [
       "<div>\n",
       "<style scoped>\n",
       "    .dataframe tbody tr th:only-of-type {\n",
       "        vertical-align: middle;\n",
       "    }\n",
       "\n",
       "    .dataframe tbody tr th {\n",
       "        vertical-align: top;\n",
       "    }\n",
       "\n",
       "    .dataframe thead th {\n",
       "        text-align: right;\n",
       "    }\n",
       "</style>\n",
       "<table border=\"1\" class=\"dataframe\">\n",
       "  <thead>\n",
       "    <tr style=\"text-align: right;\">\n",
       "      <th></th>\n",
       "      <th>0</th>\n",
       "    </tr>\n",
       "    <tr>\n",
       "      <th>DEST_CITY_NAME</th>\n",
       "      <th></th>\n",
       "    </tr>\n",
       "  </thead>\n",
       "  <tbody>\n",
       "    <tr>\n",
       "      <th>Aguadilla, PR</th>\n",
       "      <td>462</td>\n",
       "    </tr>\n",
       "    <tr>\n",
       "      <th>Albany, NY</th>\n",
       "      <td>9401</td>\n",
       "    </tr>\n",
       "    <tr>\n",
       "      <th>Albuquerque, NM</th>\n",
       "      <td>313</td>\n",
       "    </tr>\n",
       "    <tr>\n",
       "      <th>Asheville, NC</th>\n",
       "      <td>10</td>\n",
       "    </tr>\n",
       "    <tr>\n",
       "      <th>Atlanta, GA</th>\n",
       "      <td>17717</td>\n",
       "    </tr>\n",
       "  </tbody>\n",
       "</table>\n",
       "</div>"
      ],
      "text/plain": [
       "                     0\n",
       "DEST_CITY_NAME        \n",
       "Aguadilla, PR      462\n",
       "Albany, NY        9401\n",
       "Albuquerque, NM    313\n",
       "Asheville, NC       10\n",
       "Atlanta, GA      17717"
      ]
     },
     "execution_count": 8,
     "metadata": {},
     "output_type": "execute_result"
    }
   ],
   "source": [
    "#Contamos la cantidad de vuelos segun ciudad de destino\n",
    "#Agregar grafico de barras o histograma\n",
    "dataset.groupby(\"DEST_CITY_NAME\").size().to_frame().head(5)"
   ]
  },
  {
   "cell_type": "code",
   "execution_count": 9,
   "metadata": {},
   "outputs": [
    {
     "data": {
      "text/html": [
       "<div>\n",
       "<style scoped>\n",
       "    .dataframe tbody tr th:only-of-type {\n",
       "        vertical-align: middle;\n",
       "    }\n",
       "\n",
       "    .dataframe tbody tr th {\n",
       "        vertical-align: top;\n",
       "    }\n",
       "\n",
       "    .dataframe thead th {\n",
       "        text-align: right;\n",
       "    }\n",
       "</style>\n",
       "<table border=\"1\" class=\"dataframe\">\n",
       "  <thead>\n",
       "    <tr style=\"text-align: right;\">\n",
       "      <th></th>\n",
       "      <th>0</th>\n",
       "    </tr>\n",
       "    <tr>\n",
       "      <th>CANCELLED</th>\n",
       "      <th></th>\n",
       "    </tr>\n",
       "  </thead>\n",
       "  <tbody>\n",
       "    <tr>\n",
       "      <th>0.0</th>\n",
       "      <td>467842</td>\n",
       "    </tr>\n",
       "    <tr>\n",
       "      <th>1.0</th>\n",
       "      <td>12243</td>\n",
       "    </tr>\n",
       "  </tbody>\n",
       "</table>\n",
       "</div>"
      ],
      "text/plain": [
       "                0\n",
       "CANCELLED        \n",
       "0.0        467842\n",
       "1.0         12243"
      ]
     },
     "execution_count": 9,
     "metadata": {},
     "output_type": "execute_result"
    }
   ],
   "source": [
    "\n",
    "#Contamos al cantidad de vuelos cancelados\n",
    "\n",
    "dataset.groupby(\"CANCELLED\").size().to_frame()\n"
   ]
  },
  {
   "cell_type": "code",
   "execution_count": null,
   "metadata": {},
   "outputs": [],
   "source": []
  },
  {
   "cell_type": "code",
   "execution_count": null,
   "metadata": {},
   "outputs": [],
   "source": []
  },
  {
   "cell_type": "code",
   "execution_count": null,
   "metadata": {},
   "outputs": [],
   "source": []
  },
  {
   "cell_type": "code",
   "execution_count": null,
   "metadata": {},
   "outputs": [],
   "source": []
  },
  {
   "cell_type": "code",
   "execution_count": null,
   "metadata": {},
   "outputs": [],
   "source": []
  },
  {
   "cell_type": "code",
   "execution_count": null,
   "metadata": {},
   "outputs": [],
   "source": []
  }
 ],
 "metadata": {
  "kernelspec": {
   "display_name": "Python 3",
   "language": "python",
   "name": "python3"
  },
  "language_info": {
   "codemirror_mode": {
    "name": "ipython",
    "version": 3
   },
   "file_extension": ".py",
   "mimetype": "text/x-python",
   "name": "python",
   "nbconvert_exporter": "python",
   "pygments_lexer": "ipython3",
   "version": "3.6.5"
  }
 },
 "nbformat": 4,
 "nbformat_minor": 2
}
